{
  "nbformat": 4,
  "nbformat_minor": 0,
  "metadata": {
    "colab": {
      "name": "Iris.ipynb",
      "version": "0.3.2",
      "provenance": [],
      "collapsed_sections": []
    },
    "kernelspec": {
      "name": "python3",
      "display_name": "Python 3"
    }
  },
  "cells": [
    {
      "metadata": {
        "id": "lKB19JL1ty92",
        "colab_type": "code",
        "outputId": "8f5e3e4c-eec1-4a95-fce0-d96172a8fe0f",
        "colab": {
          "base_uri": "https://localhost:8080/",
          "height": 34
        }
      },
      "cell_type": "code",
      "source": [
        "# Let us do dimensionality reduction with the iris dataset\n",
        "\n",
        "# Import libraries\n",
        "import numpy as np\n",
        "from sklearn import datasets\n",
        "from sklearn.decomposition import PCA\n",
        "import matplotlib.pyplot as plt\n",
        "from mpl_toolkits.mplot3d import Axes3D\n",
        "\n",
        "# Load data\n",
        "centers = [[1, 1], [-1, -1], [1, -1]]\n",
        "iris = datasets.load_iris()\n",
        "X = iris.data\n",
        "y = iris.target\n",
        "\n",
        "print('The data has shape: {}'.format(iris.data.shape))"
      ],
      "execution_count": 57,
      "outputs": [
        {
          "output_type": "stream",
          "text": [
            "The data has shape: (150, 4)\n"
          ],
          "name": "stdout"
        }
      ]
    },
    {
      "metadata": {
        "id": "115qmT9lvPgq",
        "colab_type": "code",
        "colab": {
          "base_uri": "https://localhost:8080/",
          "height": 769
        },
        "outputId": "907e5cd7-bee9-4726-87be-7b908ebe7274"
      },
      "cell_type": "code",
      "source": [
        "# Perform PCA to reduce dimensionality to 3 dimensions instead of the original 4\n",
        "pca = PCA(n_components=3)\n",
        "pca.fit(X)\n",
        "X_reduced = pca.transform(X)\n",
        "print('Explained variance percentage = %0.2f' % sum(pca.explained_variance_ratio_))\n",
        "\n",
        "fig = plt.figure(1, figsize=(10, 10))\n",
        "plt.clf()\n",
        "ax = Axes3D(fig, rect=[0, 0, .95, 1], elev=48, azim=134)\n",
        "\n",
        "plt.cla()\n",
        "\n",
        "for name, label in [('Setosa', 0), ('Versicolour', 1), ('Virginica', 2)]:\n",
        "    ax.text3D(X_reduced[y == label, 0].mean(),\n",
        "              X_reduced[y == label, 1].mean() + 1.5,\n",
        "              X_reduced[y == label, 2].mean(), name,\n",
        "              horizontalalignment='center',\n",
        "              bbox=dict(alpha=.5, edgecolor='w', facecolor='w'))\n",
        "    \n",
        "# Reorder the labels to have colors matching the cluster results\n",
        "y = np.choose(y, [1, 2, 0]).astype(np.float)\n",
        "ax.scatter(X_reduced[:, 0], X_reduced[:, 1], X_reduced[:, 2], c=y, cmap=plt.cm.nipy_spectral,\n",
        "           edgecolor='k')\n",
        "\n",
        "ax.w_xaxis.set_ticklabels([])\n",
        "ax.w_yaxis.set_ticklabels([])\n",
        "ax.w_zaxis.set_ticklabels([])\n",
        "\n",
        "plt.show()\n"
      ],
      "execution_count": 58,
      "outputs": [
        {
          "output_type": "stream",
          "text": [
            "Explained variance percentage = 0.99\n"
          ],
          "name": "stdout"
        },
        {
          "output_type": "display_data",
          "data": {
            "text/plain": [
              "<Figure size 720x720 with 1 Axes>"
            ]
          },
          "metadata": {
            "tags": []
          }
        }
      ]
    },
    {
      "metadata": {
        "id": "cmWHb6uD0XgO",
        "colab_type": "code",
        "colab": {
          "base_uri": "https://localhost:8080/",
          "height": 481
        },
        "outputId": "c3417e43-89c4-49bc-8d95-faf7d18882b3"
      },
      "cell_type": "code",
      "source": [
        "# Now let's reduce to 2 dimensions\n",
        "pca = PCA(n_components=2)\n",
        "pca.fit(X)\n",
        "X_reduced = pca.transform(X)\n",
        "print('Explained variance percentage = %0.2f' % sum(pca.explained_variance_ratio_))\n",
        "\n",
        "plt.figure(4,figsize=(8,16))\n",
        "plt.subplot(2,1,1)\n",
        "plt.plot(X_reduced[iris.target == 0,0], X_reduced[iris.target == 0,1], 'o')\n",
        "plt.plot(X_reduced[iris.target == 1,0], X_reduced[iris.target == 1,1], '^')\n",
        "plt.plot(X_reduced[iris.target == 2,0], X_reduced[iris.target == 2,1], '*')\n",
        "plt.legend(['Setosa', 'Versicolor', 'Virginica'])"
      ],
      "execution_count": 59,
      "outputs": [
        {
          "output_type": "stream",
          "text": [
            "Explained variance percentage = 0.98\n"
          ],
          "name": "stdout"
        },
        {
          "output_type": "execute_result",
          "data": {
            "text/plain": [
              "<matplotlib.legend.Legend at 0x7f7700044080>"
            ]
          },
          "metadata": {
            "tags": []
          },
          "execution_count": 59
        },
        {
          "output_type": "display_data",
          "data": {
            "text/plain": [
              "<Figure size 576x1152 with 1 Axes>"
            ]
          },
          "metadata": {
            "tags": []
          }
        }
      ]
    },
    {
      "metadata": {
        "id": "c3mfD07J2IJL",
        "colab_type": "code",
        "colab": {
          "base_uri": "https://localhost:8080/",
          "height": 34
        },
        "outputId": "e482dd96-734b-407e-cecc-92f32d31e3bc"
      },
      "cell_type": "code",
      "source": [
        "# Just for fun, let's reduce from 4 dimensions to 1\n",
        "pca = PCA(n_components=1)\n",
        "pca.fit(X)\n",
        "X_reduced = pca.transform(X)\n",
        "print('Explained variance percentage = %0.2f' % sum(pca.explained_variance_ratio_))"
      ],
      "execution_count": 56,
      "outputs": [
        {
          "output_type": "stream",
          "text": [
            "Explained variance percentage = 0.92\n"
          ],
          "name": "stdout"
        }
      ]
    },
    {
      "metadata": {
        "id": "hvHZtG0R2cA8",
        "colab_type": "text"
      },
      "cell_type": "markdown",
      "source": [
        "Well this is interesting. Right?\n",
        "\n",
        "\n",
        "1.   Do you think dimensionality reduction is important? Why? Why not?\n",
        "2.   Do you come up with any real world applications? \n",
        "3.   Do you think it is used anywhere?\n",
        "\n"
      ]
    }
  ]
}
